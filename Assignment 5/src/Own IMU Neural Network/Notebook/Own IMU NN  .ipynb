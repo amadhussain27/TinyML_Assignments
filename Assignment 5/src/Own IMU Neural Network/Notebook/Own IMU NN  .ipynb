{
 "cells": [
  {
   "cell_type": "code",
   "execution_count": 1,
   "id": "a08a7fc1",
   "metadata": {},
   "outputs": [],
   "source": [
    "# TensorFlow is an open source machine learning library\n",
    "import tensorflow as tf\n",
    "\n",
    "# Keras is TensorFlow's high-level API for deep learning\n",
    "from tensorflow import keras\n",
    "# Numpy is a math library\n",
    "import numpy as np\n",
    "# Pandas is a data manipulation library \n",
    "import pandas as pd\n",
    "# Matplotlib is a graphing library\n",
    "import matplotlib.pyplot as plt\n",
    "# Math is Python's math library\n",
    "import math\n",
    "import os\n",
    "from skimage import io\n",
    "\n",
    "\n",
    "\n",
    "# Set seed for experiment reproducibility\n",
    "seed = 1\n",
    "np.random.seed(seed)\n",
    "tf.random.set_seed(seed)\n",
    "\n",
    "from tensorflow_model_optimization.sparsity import keras as sparsity\n",
    "import seaborn as sns\n",
    "\n",
    "sns.set(font_scale=1.4)\n",
    "sns.set_style(\"whitegrid\")\n",
    "\n"
   ]
  },
  {
   "cell_type": "code",
   "execution_count": 2,
   "id": "3fb9a40d",
   "metadata": {},
   "outputs": [],
   "source": [
    "# Reading csv files\n",
    "#fistbump = pd.read_csv(\"/Users/amad/Desktop/495/fistbump_data.csv\")\n",
    "#wave = pd.read_csv(\"/Users/amad/Desktop/495/wave_data.csv\")"
   ]
  },
  {
   "cell_type": "code",
   "execution_count": 3,
   "id": "462a3e35",
   "metadata": {},
   "outputs": [
    {
     "name": "stdout",
     "output_type": "stream",
     "text": [
      "TensorFlow version = 2.4.0\n",
      "\n",
      "Processing index 0 for gesture 'wave_data'.\n",
      "[1. 0.]\n",
      "\tThere are 50 recordings of the wave_data gesture.\n",
      "Processing index 1 for gesture 'fistbump_data'.\n",
      "[0. 1.]\n",
      "\tThere are 50 recordings of the fistbump_data gesture.\n",
      "Data set parsing and preparation complete.\n"
     ]
    }
   ],
   "source": [
    "print(f\"TensorFlow version = {tf.__version__}\\n\")\n",
    "\n",
    "# Set a fixed random seed value, for reproducibility, this will allow us to get\n",
    "# the same random numbers each time the notebook is run\n",
    "SEED = 1337\n",
    "np.random.seed(SEED)\n",
    "tf.random.set_seed(SEED)\n",
    "\n",
    "# the list of gestures that data is available for\n",
    "GESTURES = [\n",
    "    \"wave_data\",\n",
    "    \"fistbump_data\"]\n",
    "\n",
    "SAMPLES_PER_GESTURE = 119\n",
    "\n",
    "NUM_GESTURES = len(GESTURES)\n",
    "\n",
    "# create a one-hot encoded matrix that is used in the output\n",
    "ONE_HOT_ENCODED_GESTURES = np.eye(NUM_GESTURES)\n",
    "\n",
    "inputs = []\n",
    "outputs = []\n",
    "\n",
    "# read each csv file and push an input and output\n",
    "for gesture_index in range(NUM_GESTURES):\n",
    "  gesture = GESTURES[gesture_index]\n",
    "  print(f\"Processing index {gesture_index} for gesture '{gesture}'.\")\n",
    "  \n",
    "  output = ONE_HOT_ENCODED_GESTURES[gesture_index]\n",
    "  print(output)\n",
    "  df = pd.read_csv(\"/Users/amad/Desktop/Own IMU/\" + gesture + \".csv\")\n",
    "  \n",
    "  # calculate the number of gesture recordings in the file\n",
    "  num_recordings = int(df.shape[0] / SAMPLES_PER_GESTURE)\n",
    "  \n",
    "  print(f\"\\tThere are {num_recordings} recordings of the {gesture} gesture.\")\n",
    "  \n",
    "  for i in range(num_recordings):\n",
    "    tensor = []\n",
    "    for j in range(SAMPLES_PER_GESTURE):\n",
    "      index = i * SAMPLES_PER_GESTURE + j\n",
    "      # normalize the input data, between 0 to 1:\n",
    "      # - acceleration is between: -4 to +4\n",
    "      # - gyroscope is between: -2000 to +2000\n",
    "      tensor += [\n",
    "          (df['aX'][index] + 4) / 8,\n",
    "          (df['aY'][index] + 4) / 8,\n",
    "          (df['aZ'][index] + 4) / 8,\n",
    "          (df['gX'][index] + 2000) / 4000,\n",
    "          (df['gY'][index] + 2000) / 4000,\n",
    "          (df['gZ'][index] + 2000) / 4000\n",
    "      ]\n",
    "\n",
    "    inputs.append(tensor)\n",
    "    outputs.append(output)\n",
    "# convert the list to numpy array\n",
    "inputs = np.array(inputs)\n",
    "outputs = np.array(outputs)\n",
    "\n",
    "print(\"Data set parsing and preparation complete.\")"
   ]
  },
  {
   "cell_type": "code",
   "execution_count": 4,
   "id": "d979d690",
   "metadata": {},
   "outputs": [
    {
     "name": "stdout",
     "output_type": "stream",
     "text": [
      "Data set randomization and splitting complete.\n"
     ]
    }
   ],
   "source": [
    "# Randomize the order of the inputs, so they can be evenly distributed for training, testing, and validation\n",
    "num_inputs = len(inputs)\n",
    "randomize = np.arange(num_inputs)\n",
    "np.random.shuffle(randomize)\n",
    "# Swap the consecutive indexes (0, 1, 2, etc) with the randomized indexes\n",
    "inputs = inputs[randomize]\n",
    "outputs = outputs[randomize]\n",
    "\n",
    "# Split the recordings (group of samples) into three sets: training, testing and validation\n",
    "TRAIN_SPLIT = int(0.6 * num_inputs)\n",
    "TEST_SPLIT = int(0.2 * num_inputs + TRAIN_SPLIT)\n",
    "\n",
    "inputs_train, inputs_test, inputs_validate = np.split(inputs, [TRAIN_SPLIT, TEST_SPLIT])\n",
    "outputs_train, outputs_test, outputs_validate = np.split(outputs, [TRAIN_SPLIT, TEST_SPLIT])\n",
    "\n",
    "print(\"Data set randomization and splitting complete.\")"
   ]
  },
  {
   "cell_type": "code",
   "execution_count": 5,
   "id": "64fcf8f4",
   "metadata": {},
   "outputs": [],
   "source": [
    "# build the model and train it\n",
    "model = tf.keras.Sequential()\n",
    "model.add(tf.keras.layers.Dense(100, activation='relu')) # relu is used for performance\n",
    "model.add(tf.keras.layers.Dropout(.15))\n",
    "model.add(tf.keras.layers.Dense(75, activation='relu'))\n",
    "model.add(tf.keras.layers.Dropout(.15))\n",
    "model.add(tf.keras.layers.Dense(75, activation='relu'))\n",
    "model.add(tf.keras.layers.Dropout(.15))\n",
    "model.add(tf.keras.layers.Dense(NUM_GESTURES, activation='softmax')) # softmax is used, because we only expect one gesture to occur per input\n",
    "adam = tf.keras.optimizers.Adam(\n",
    "       learning_rate=0.0001,\n",
    "       name=\"adam\")\n",
    "model.compile(optimizer=adam, loss='mse', metrics=['accuracy'])\n",
    "reduce_lr = tf.keras.callbacks.ReduceLROnPlateau(monitor='val_loss',min_lr=0.0001)\n"
   ]
  },
  {
   "cell_type": "code",
   "execution_count": 6,
   "id": "0bca35e0",
   "metadata": {},
   "outputs": [
    {
     "name": "stdout",
     "output_type": "stream",
     "text": [
      "Epoch 1/100\n",
      "3/3 [==============================] - 1s 433ms/step - loss: 0.2474 - accuracy: 0.5250 - val_loss: 0.2445 - val_accuracy: 0.5000\n",
      "Epoch 2/100\n",
      "3/3 [==============================] - 0s 24ms/step - loss: 0.2560 - accuracy: 0.5250 - val_loss: 0.2509 - val_accuracy: 0.4000\n",
      "Epoch 3/100\n",
      "3/3 [==============================] - 0s 23ms/step - loss: 0.2470 - accuracy: 0.5000 - val_loss: 0.2480 - val_accuracy: 0.4000\n",
      "Epoch 4/100\n",
      "3/3 [==============================] - 0s 25ms/step - loss: 0.2398 - accuracy: 0.5917 - val_loss: 0.2518 - val_accuracy: 0.4000\n",
      "Epoch 5/100\n",
      "3/3 [==============================] - 0s 25ms/step - loss: 0.2567 - accuracy: 0.5125 - val_loss: 0.2534 - val_accuracy: 0.4000\n",
      "Epoch 6/100\n",
      "3/3 [==============================] - 0s 24ms/step - loss: 0.2405 - accuracy: 0.5938 - val_loss: 0.2568 - val_accuracy: 0.4000\n",
      "Epoch 7/100\n",
      "3/3 [==============================] - 0s 24ms/step - loss: 0.2467 - accuracy: 0.6479 - val_loss: 0.2516 - val_accuracy: 0.4000\n",
      "Epoch 8/100\n",
      "3/3 [==============================] - 0s 23ms/step - loss: 0.2324 - accuracy: 0.6771 - val_loss: 0.2500 - val_accuracy: 0.4000\n",
      "Epoch 9/100\n",
      "3/3 [==============================] - 0s 24ms/step - loss: 0.2367 - accuracy: 0.5875 - val_loss: 0.2443 - val_accuracy: 0.4000\n",
      "Epoch 10/100\n",
      "3/3 [==============================] - 0s 26ms/step - loss: 0.2172 - accuracy: 0.6792 - val_loss: 0.2408 - val_accuracy: 0.4000\n",
      "Epoch 11/100\n",
      "3/3 [==============================] - 0s 25ms/step - loss: 0.2646 - accuracy: 0.5187 - val_loss: 0.2408 - val_accuracy: 0.4000\n",
      "Epoch 12/100\n",
      "3/3 [==============================] - 0s 25ms/step - loss: 0.2456 - accuracy: 0.6312 - val_loss: 0.2434 - val_accuracy: 0.4000\n",
      "Epoch 13/100\n",
      "3/3 [==============================] - 0s 23ms/step - loss: 0.2460 - accuracy: 0.5292 - val_loss: 0.2399 - val_accuracy: 0.4000\n",
      "Epoch 14/100\n",
      "3/3 [==============================] - 0s 23ms/step - loss: 0.2237 - accuracy: 0.6229 - val_loss: 0.2392 - val_accuracy: 0.4000\n",
      "Epoch 15/100\n",
      "3/3 [==============================] - 0s 24ms/step - loss: 0.2302 - accuracy: 0.5542 - val_loss: 0.2339 - val_accuracy: 0.4000\n",
      "Epoch 16/100\n",
      "3/3 [==============================] - 0s 23ms/step - loss: 0.2246 - accuracy: 0.7292 - val_loss: 0.2292 - val_accuracy: 0.6000\n",
      "Epoch 17/100\n",
      "3/3 [==============================] - 0s 26ms/step - loss: 0.2497 - accuracy: 0.5208 - val_loss: 0.2271 - val_accuracy: 0.8000\n",
      "Epoch 18/100\n",
      "3/3 [==============================] - 0s 25ms/step - loss: 0.2298 - accuracy: 0.6687 - val_loss: 0.2251 - val_accuracy: 0.8500\n",
      "Epoch 19/100\n",
      "3/3 [==============================] - 0s 26ms/step - loss: 0.2250 - accuracy: 0.7021 - val_loss: 0.2230 - val_accuracy: 0.8500\n",
      "Epoch 20/100\n",
      "3/3 [==============================] - 0s 25ms/step - loss: 0.2259 - accuracy: 0.6708 - val_loss: 0.2255 - val_accuracy: 0.5000\n",
      "Epoch 21/100\n",
      "3/3 [==============================] - 0s 24ms/step - loss: 0.2308 - accuracy: 0.6479 - val_loss: 0.2240 - val_accuracy: 0.4500\n",
      "Epoch 22/100\n",
      "3/3 [==============================] - 0s 26ms/step - loss: 0.2389 - accuracy: 0.6250 - val_loss: 0.2253 - val_accuracy: 0.4000\n",
      "Epoch 23/100\n",
      "3/3 [==============================] - 0s 25ms/step - loss: 0.2459 - accuracy: 0.6021 - val_loss: 0.2214 - val_accuracy: 0.5500\n",
      "Epoch 24/100\n",
      "3/3 [==============================] - 0s 25ms/step - loss: 0.2113 - accuracy: 0.7333 - val_loss: 0.2181 - val_accuracy: 0.8500\n",
      "Epoch 25/100\n",
      "3/3 [==============================] - 0s 26ms/step - loss: 0.2294 - accuracy: 0.6083 - val_loss: 0.2099 - val_accuracy: 0.9500\n",
      "Epoch 26/100\n",
      "3/3 [==============================] - 0s 22ms/step - loss: 0.2113 - accuracy: 0.6792 - val_loss: 0.2095 - val_accuracy: 0.9500\n",
      "Epoch 27/100\n",
      "3/3 [==============================] - 0s 25ms/step - loss: 0.2150 - accuracy: 0.7000 - val_loss: 0.2133 - val_accuracy: 0.8500\n",
      "Epoch 28/100\n",
      "3/3 [==============================] - 0s 25ms/step - loss: 0.2084 - accuracy: 0.7292 - val_loss: 0.2124 - val_accuracy: 0.8500\n",
      "Epoch 29/100\n",
      "3/3 [==============================] - 0s 25ms/step - loss: 0.2035 - accuracy: 0.6875 - val_loss: 0.2099 - val_accuracy: 0.8500\n",
      "Epoch 30/100\n",
      "3/3 [==============================] - 0s 23ms/step - loss: 0.2348 - accuracy: 0.6562 - val_loss: 0.2044 - val_accuracy: 0.9500\n",
      "Epoch 31/100\n",
      "3/3 [==============================] - 0s 23ms/step - loss: 0.2046 - accuracy: 0.7042 - val_loss: 0.2054 - val_accuracy: 0.9000\n",
      "Epoch 32/100\n",
      "3/3 [==============================] - 0s 24ms/step - loss: 0.1930 - accuracy: 0.7750 - val_loss: 0.2026 - val_accuracy: 0.9500\n",
      "Epoch 33/100\n",
      "3/3 [==============================] - 0s 24ms/step - loss: 0.2219 - accuracy: 0.6958 - val_loss: 0.1980 - val_accuracy: 0.9500\n",
      "Epoch 34/100\n",
      "3/3 [==============================] - 0s 24ms/step - loss: 0.2155 - accuracy: 0.6542 - val_loss: 0.1991 - val_accuracy: 0.9000\n",
      "Epoch 35/100\n",
      "3/3 [==============================] - 0s 25ms/step - loss: 0.2255 - accuracy: 0.5979 - val_loss: 0.1977 - val_accuracy: 0.9000\n",
      "Epoch 36/100\n",
      "3/3 [==============================] - 0s 24ms/step - loss: 0.1903 - accuracy: 0.8312 - val_loss: 0.1923 - val_accuracy: 0.9500\n",
      "Epoch 37/100\n",
      "3/3 [==============================] - 0s 23ms/step - loss: 0.2127 - accuracy: 0.6875 - val_loss: 0.1912 - val_accuracy: 0.9500\n",
      "Epoch 38/100\n",
      "3/3 [==============================] - 0s 23ms/step - loss: 0.2060 - accuracy: 0.7542 - val_loss: 0.1925 - val_accuracy: 0.9000\n",
      "Epoch 39/100\n",
      "3/3 [==============================] - 0s 27ms/step - loss: 0.2071 - accuracy: 0.6792 - val_loss: 0.1891 - val_accuracy: 0.9500\n",
      "Epoch 40/100\n",
      "3/3 [==============================] - 0s 22ms/step - loss: 0.2078 - accuracy: 0.6875 - val_loss: 0.1879 - val_accuracy: 0.9500\n",
      "Epoch 41/100\n",
      "3/3 [==============================] - 0s 23ms/step - loss: 0.2153 - accuracy: 0.7604 - val_loss: 0.1849 - val_accuracy: 0.9500\n",
      "Epoch 42/100\n",
      "3/3 [==============================] - 0s 22ms/step - loss: 0.1929 - accuracy: 0.8208 - val_loss: 0.1862 - val_accuracy: 0.9500\n",
      "Epoch 43/100\n",
      "3/3 [==============================] - 0s 21ms/step - loss: 0.1780 - accuracy: 0.7771 - val_loss: 0.1831 - val_accuracy: 0.9500\n",
      "Epoch 44/100\n",
      "3/3 [==============================] - 0s 23ms/step - loss: 0.2048 - accuracy: 0.8000 - val_loss: 0.1773 - val_accuracy: 0.9500\n",
      "Epoch 45/100\n",
      "3/3 [==============================] - 0s 21ms/step - loss: 0.2099 - accuracy: 0.6437 - val_loss: 0.1774 - val_accuracy: 0.9500\n",
      "Epoch 46/100\n",
      "3/3 [==============================] - 0s 23ms/step - loss: 0.1990 - accuracy: 0.7063 - val_loss: 0.1798 - val_accuracy: 0.9500\n",
      "Epoch 47/100\n",
      "3/3 [==============================] - 0s 23ms/step - loss: 0.1841 - accuracy: 0.7583 - val_loss: 0.1764 - val_accuracy: 0.9500\n",
      "Epoch 48/100\n",
      "3/3 [==============================] - 0s 21ms/step - loss: 0.1916 - accuracy: 0.7687 - val_loss: 0.1753 - val_accuracy: 0.9500\n",
      "Epoch 49/100\n",
      "3/3 [==============================] - 0s 23ms/step - loss: 0.1928 - accuracy: 0.7750 - val_loss: 0.1723 - val_accuracy: 0.9500\n",
      "Epoch 50/100\n",
      "3/3 [==============================] - 0s 24ms/step - loss: 0.1835 - accuracy: 0.8167 - val_loss: 0.1756 - val_accuracy: 0.9000\n",
      "Epoch 51/100\n",
      "3/3 [==============================] - 0s 24ms/step - loss: 0.1804 - accuracy: 0.8229 - val_loss: 0.1791 - val_accuracy: 0.9000\n",
      "Epoch 52/100\n",
      "3/3 [==============================] - 0s 22ms/step - loss: 0.1952 - accuracy: 0.6958 - val_loss: 0.1701 - val_accuracy: 0.9000\n",
      "Epoch 53/100\n",
      "3/3 [==============================] - 0s 21ms/step - loss: 0.1760 - accuracy: 0.8167 - val_loss: 0.1607 - val_accuracy: 0.9500\n",
      "Epoch 54/100\n",
      "3/3 [==============================] - 0s 23ms/step - loss: 0.1695 - accuracy: 0.8583 - val_loss: 0.1581 - val_accuracy: 0.9500\n",
      "Epoch 55/100\n",
      "3/3 [==============================] - 0s 24ms/step - loss: 0.1659 - accuracy: 0.8063 - val_loss: 0.1596 - val_accuracy: 0.9500\n",
      "Epoch 56/100\n",
      "3/3 [==============================] - 0s 23ms/step - loss: 0.1747 - accuracy: 0.7958 - val_loss: 0.1554 - val_accuracy: 0.9500\n",
      "Epoch 57/100\n",
      "3/3 [==============================] - 0s 22ms/step - loss: 0.1910 - accuracy: 0.7896 - val_loss: 0.1516 - val_accuracy: 0.9500\n",
      "Epoch 58/100\n",
      "3/3 [==============================] - 0s 24ms/step - loss: 0.1829 - accuracy: 0.8083 - val_loss: 0.1504 - val_accuracy: 0.9500\n",
      "Epoch 59/100\n",
      "3/3 [==============================] - 0s 24ms/step - loss: 0.1734 - accuracy: 0.8229 - val_loss: 0.1488 - val_accuracy: 0.9500\n",
      "Epoch 60/100\n",
      "3/3 [==============================] - 0s 23ms/step - loss: 0.1742 - accuracy: 0.8667 - val_loss: 0.1492 - val_accuracy: 0.9500\n",
      "Epoch 61/100\n",
      "3/3 [==============================] - 0s 22ms/step - loss: 0.1538 - accuracy: 0.9208 - val_loss: 0.1476 - val_accuracy: 0.9500\n",
      "Epoch 62/100\n",
      "3/3 [==============================] - 0s 21ms/step - loss: 0.1599 - accuracy: 0.8604 - val_loss: 0.1413 - val_accuracy: 0.9500\n",
      "Epoch 63/100\n",
      "3/3 [==============================] - 0s 23ms/step - loss: 0.1565 - accuracy: 0.9146 - val_loss: 0.1401 - val_accuracy: 0.9500\n",
      "Epoch 64/100\n",
      "3/3 [==============================] - 0s 21ms/step - loss: 0.1640 - accuracy: 0.8438 - val_loss: 0.1384 - val_accuracy: 0.9500\n",
      "Epoch 65/100\n",
      "3/3 [==============================] - 0s 19ms/step - loss: 0.1596 - accuracy: 0.8375 - val_loss: 0.1319 - val_accuracy: 0.9500\n",
      "Epoch 66/100\n",
      "3/3 [==============================] - 0s 23ms/step - loss: 0.1640 - accuracy: 0.7938 - val_loss: 0.1294 - val_accuracy: 0.9500\n",
      "Epoch 67/100\n",
      "3/3 [==============================] - 0s 24ms/step - loss: 0.1509 - accuracy: 0.9229 - val_loss: 0.1268 - val_accuracy: 0.9500\n",
      "Epoch 68/100\n",
      "3/3 [==============================] - 0s 22ms/step - loss: 0.1696 - accuracy: 0.7646 - val_loss: 0.1273 - val_accuracy: 0.9500\n",
      "Epoch 69/100\n",
      "3/3 [==============================] - 0s 22ms/step - loss: 0.1318 - accuracy: 0.9021 - val_loss: 0.1315 - val_accuracy: 0.9500\n",
      "Epoch 70/100\n",
      "3/3 [==============================] - 0s 22ms/step - loss: 0.1467 - accuracy: 0.9208 - val_loss: 0.1374 - val_accuracy: 0.9000\n",
      "Epoch 71/100\n",
      "3/3 [==============================] - 0s 23ms/step - loss: 0.1508 - accuracy: 0.8646 - val_loss: 0.1292 - val_accuracy: 0.9500\n",
      "Epoch 72/100\n",
      "3/3 [==============================] - 0s 22ms/step - loss: 0.1601 - accuracy: 0.8438 - val_loss: 0.1216 - val_accuracy: 0.9500\n",
      "Epoch 73/100\n",
      "3/3 [==============================] - 0s 20ms/step - loss: 0.1546 - accuracy: 0.8958 - val_loss: 0.1189 - val_accuracy: 0.9500\n",
      "Epoch 74/100\n",
      "3/3 [==============================] - 0s 23ms/step - loss: 0.1500 - accuracy: 0.8646 - val_loss: 0.1180 - val_accuracy: 0.9500\n",
      "Epoch 75/100\n",
      "3/3 [==============================] - 0s 20ms/step - loss: 0.1541 - accuracy: 0.8313 - val_loss: 0.1176 - val_accuracy: 0.9500\n",
      "Epoch 76/100\n",
      "3/3 [==============================] - 0s 22ms/step - loss: 0.1426 - accuracy: 0.8750 - val_loss: 0.1183 - val_accuracy: 0.9500\n",
      "Epoch 77/100\n",
      "3/3 [==============================] - 0s 24ms/step - loss: 0.1400 - accuracy: 0.8479 - val_loss: 0.1142 - val_accuracy: 0.9500\n",
      "Epoch 78/100\n",
      "3/3 [==============================] - 0s 23ms/step - loss: 0.1384 - accuracy: 0.8812 - val_loss: 0.1092 - val_accuracy: 0.9500\n",
      "Epoch 79/100\n",
      "3/3 [==============================] - 0s 22ms/step - loss: 0.1401 - accuracy: 0.8771 - val_loss: 0.1056 - val_accuracy: 0.9500\n",
      "Epoch 80/100\n",
      "3/3 [==============================] - 0s 22ms/step - loss: 0.1416 - accuracy: 0.8229 - val_loss: 0.1025 - val_accuracy: 0.9500\n",
      "Epoch 81/100\n",
      "3/3 [==============================] - 0s 20ms/step - loss: 0.1453 - accuracy: 0.8104 - val_loss: 0.1033 - val_accuracy: 0.9500\n",
      "Epoch 82/100\n",
      "3/3 [==============================] - 0s 23ms/step - loss: 0.1261 - accuracy: 0.9125 - val_loss: 0.0989 - val_accuracy: 0.9500\n",
      "Epoch 83/100\n",
      "3/3 [==============================] - 0s 23ms/step - loss: 0.1247 - accuracy: 0.9187 - val_loss: 0.0961 - val_accuracy: 0.9500\n",
      "Epoch 84/100\n",
      "3/3 [==============================] - 0s 20ms/step - loss: 0.1270 - accuracy: 0.9104 - val_loss: 0.0945 - val_accuracy: 0.9500\n",
      "Epoch 85/100\n",
      "3/3 [==============================] - 0s 23ms/step - loss: 0.1274 - accuracy: 0.9146 - val_loss: 0.0916 - val_accuracy: 0.9500\n",
      "Epoch 86/100\n",
      "3/3 [==============================] - 0s 23ms/step - loss: 0.1264 - accuracy: 0.9208 - val_loss: 0.0895 - val_accuracy: 0.9500\n",
      "Epoch 87/100\n",
      "3/3 [==============================] - 0s 22ms/step - loss: 0.1094 - accuracy: 0.9500 - val_loss: 0.0878 - val_accuracy: 0.9500\n",
      "Epoch 88/100\n",
      "3/3 [==============================] - 0s 23ms/step - loss: 0.1347 - accuracy: 0.8521 - val_loss: 0.0901 - val_accuracy: 0.9500\n",
      "Epoch 89/100\n",
      "3/3 [==============================] - 0s 21ms/step - loss: 0.1166 - accuracy: 0.9625 - val_loss: 0.0879 - val_accuracy: 0.9500\n",
      "Epoch 90/100\n",
      "3/3 [==============================] - 0s 21ms/step - loss: 0.1104 - accuracy: 0.9500 - val_loss: 0.0836 - val_accuracy: 0.9500\n",
      "Epoch 91/100\n",
      "3/3 [==============================] - 0s 22ms/step - loss: 0.1007 - accuracy: 0.9521 - val_loss: 0.0811 - val_accuracy: 0.9500\n",
      "Epoch 92/100\n",
      "3/3 [==============================] - 0s 22ms/step - loss: 0.0971 - accuracy: 0.9396 - val_loss: 0.0792 - val_accuracy: 0.9500\n",
      "Epoch 93/100\n",
      "3/3 [==============================] - 0s 22ms/step - loss: 0.0937 - accuracy: 0.9562 - val_loss: 0.0776 - val_accuracy: 0.9500\n",
      "Epoch 94/100\n",
      "3/3 [==============================] - 0s 22ms/step - loss: 0.1169 - accuracy: 0.9104 - val_loss: 0.0766 - val_accuracy: 0.9500\n",
      "Epoch 95/100\n",
      "3/3 [==============================] - 0s 23ms/step - loss: 0.1259 - accuracy: 0.8687 - val_loss: 0.0753 - val_accuracy: 0.9500\n",
      "Epoch 96/100\n",
      "3/3 [==============================] - 0s 24ms/step - loss: 0.1097 - accuracy: 0.8812 - val_loss: 0.0769 - val_accuracy: 0.9500\n",
      "Epoch 97/100\n",
      "3/3 [==============================] - 0s 24ms/step - loss: 0.0958 - accuracy: 0.9833 - val_loss: 0.0729 - val_accuracy: 0.9500\n",
      "Epoch 98/100\n",
      "3/3 [==============================] - 0s 23ms/step - loss: 0.1073 - accuracy: 0.9208 - val_loss: 0.0719 - val_accuracy: 0.9500\n",
      "Epoch 99/100\n",
      "3/3 [==============================] - 0s 21ms/step - loss: 0.0993 - accuracy: 0.9500 - val_loss: 0.0739 - val_accuracy: 0.9500\n",
      "Epoch 100/100\n",
      "3/3 [==============================] - 0s 24ms/step - loss: 0.0880 - accuracy: 0.9562 - val_loss: 0.0730 - val_accuracy: 0.9500\n"
     ]
    }
   ],
   "source": [
    "history = model.fit(inputs_train, outputs_train, epochs=100, batch_size=20,  validation_data=(inputs_validate, outputs_validate))"
   ]
  },
  {
   "cell_type": "code",
   "execution_count": 7,
   "id": "248097ae",
   "metadata": {},
   "outputs": [
    {
     "name": "stdout",
     "output_type": "stream",
     "text": [
      "Model: \"sequential\"\n",
      "_________________________________________________________________\n",
      "Layer (type)                 Output Shape              Param #   \n",
      "=================================================================\n",
      "dense (Dense)                (20, 100)                 71500     \n",
      "_________________________________________________________________\n",
      "dropout (Dropout)            (20, 100)                 0         \n",
      "_________________________________________________________________\n",
      "dense_1 (Dense)              (20, 75)                  7575      \n",
      "_________________________________________________________________\n",
      "dropout_1 (Dropout)          (20, 75)                  0         \n",
      "_________________________________________________________________\n",
      "dense_2 (Dense)              (20, 75)                  5700      \n",
      "_________________________________________________________________\n",
      "dropout_2 (Dropout)          (20, 75)                  0         \n",
      "_________________________________________________________________\n",
      "dense_3 (Dense)              (20, 2)                   152       \n",
      "=================================================================\n",
      "Total params: 84,927\n",
      "Trainable params: 84,927\n",
      "Non-trainable params: 0\n",
      "_________________________________________________________________\n"
     ]
    }
   ],
   "source": [
    "model.summary()"
   ]
  },
  {
   "cell_type": "code",
   "execution_count": 8,
   "id": "b6768716",
   "metadata": {},
   "outputs": [
    {
     "data": {
      "image/png": "[encoded data removed]",
      "text/plain": [
       "<Figure size 864x288 with 1 Axes>"
      ]
     },
     "metadata": {},
     "output_type": "display_data"
    },
    {
     "name": "stdout",
     "output_type": "stream",
     "text": [
      "[12.0, 4.0]\n"
     ]
    }
   ],
   "source": [
    "# increase the size of the graphs. The default size is (6,4).\n",
    "plt.rcParams[\"figure.figsize\"] = (12,4)\n",
    "\n",
    "# graph the loss, the model above is configure to use \"mean squared error\" as the loss function\n",
    "loss = history.history['loss']\n",
    "val_loss = history.history['val_loss']\n",
    "epochs = range(1, len(loss) + 1)\n",
    "plt.plot(epochs, loss, 'g.', linestyle='solid', label='Training loss')\n",
    "plt.plot(epochs, val_loss, 'b', linestyle='solid', label='Validation loss')\n",
    "plt.title('Training and validation loss')\n",
    "plt.xlabel('Epochs')\n",
    "plt.ylabel('Loss')\n",
    "plt.legend()\n",
    "plt.show()\n",
    "\n",
    "print(plt.rcParams[\"figure.figsize\"])"
   ]
  },
  {
   "cell_type": "code",
   "execution_count": 9,
   "id": "8ac82142",
   "metadata": {},
   "outputs": [
    {
     "data": {
      "image/png": "[encoded data removed]",
      "text/plain": [
       "<Figure size 864x288 with 1 Axes>"
      ]
     },
     "metadata": {},
     "output_type": "display_data"
    }
   ],
   "source": [
    "# graph of mean absolute error\n",
    "mae = history.history['accuracy']\n",
    "val_mae = history.history['val_accuracy']\n",
    "plt.plot(epochs, mae, 'g.', linestyle='solid', label='Training Accuracy')\n",
    "plt.plot(epochs, val_mae, 'b.', linestyle='solid', label='Validation Accuracy')\n",
    "plt.title('Training and validation accuracy')\n",
    "plt.xlabel('Epochs')\n",
    "plt.ylabel('MAE')\n",
    "plt.legend()\n",
    "plt.show()"
   ]
  },
  {
   "cell_type": "code",
   "execution_count": 10,
   "id": "408183c5",
   "metadata": {},
   "outputs": [
    {
     "name": "stdout",
     "output_type": "stream",
     "text": [
      "predictions =\n",
      " [[0.665 0.335]\n",
      " [0.783 0.217]\n",
      " [0.888 0.112]\n",
      " [0.835 0.165]\n",
      " [0.743 0.257]\n",
      " [0.241 0.759]\n",
      " [0.82  0.18 ]\n",
      " [0.256 0.744]\n",
      " [0.236 0.764]\n",
      " [0.249 0.751]\n",
      " [0.284 0.716]\n",
      " [0.808 0.192]\n",
      " [0.716 0.284]\n",
      " [0.211 0.789]\n",
      " [0.418 0.582]\n",
      " [0.492 0.508]\n",
      " [0.766 0.234]\n",
      " [0.238 0.762]\n",
      " [0.241 0.759]\n",
      " [0.267 0.733]]\n",
      "actual =\n",
      " [[1. 0.]\n",
      " [1. 0.]\n",
      " [1. 0.]\n",
      " [1. 0.]\n",
      " [1. 0.]\n",
      " [0. 1.]\n",
      " [1. 0.]\n",
      " [0. 1.]\n",
      " [0. 1.]\n",
      " [0. 1.]\n",
      " [0. 1.]\n",
      " [1. 0.]\n",
      " [1. 0.]\n",
      " [0. 1.]\n",
      " [0. 1.]\n",
      " [0. 1.]\n",
      " [1. 0.]\n",
      " [0. 1.]\n",
      " [0. 1.]\n",
      " [0. 1.]]\n"
     ]
    }
   ],
   "source": [
    "# use the model to predict the test inputs\n",
    "predictions = model.predict(inputs_test)\n",
    "\n",
    "# print the predictions and the expected ouputs\n",
    "print(\"predictions =\\n\", np.round(predictions, decimals=3))\n",
    "print(\"actual =\\n\", outputs_test)"
   ]
  },
  {
   "cell_type": "code",
   "execution_count": 11,
   "id": "51a86369",
   "metadata": {},
   "outputs": [
    {
     "data": {
      "image/png": "[encoded data removed]",
      "text/plain": [
       "<Figure size 432x288 with 2 Axes>"
      ]
     },
     "metadata": {},
     "output_type": "display_data"
    }
   ],
   "source": [
    "cm = tf.math.confusion_matrix(labels=tf.argmax(outputs_test, 1), predictions=tf.argmax(predictions, 1))\n",
    "axis_labels = [\"Wave\", \"Fistbump\"]\n",
    "figure = plt.figure(figsize=(6, 4))\n",
    "sns.heatmap(cm, annot=True,cmap=plt.cm.Blues,xticklabels=axis_labels, yticklabels=axis_labels)\n",
    "plt.ylim(len(cm)-0, 0)\n",
    "plt.tight_layout()\n",
    "plt.ylabel('True label')\n",
    "plt.xlabel('Predicted label')\n",
    "plt.show()"
   ]
  },
  {
   "cell_type": "code",
   "execution_count": 12,
   "id": "a574263f",
   "metadata": {},
   "outputs": [
    {
     "name": "stdout",
     "output_type": "stream",
     "text": [
      "INFO:tensorflow:Assets written to: /var/folders/6x/f_7qfg9s71jbzpkygx9sw7s40000gn/T/tmpywvlh8kd/assets\n",
      "Model is 341768 bytes\n"
     ]
    }
   ],
   "source": [
    "# Convert the model to the TensorFlow Lite format without quantization\n",
    "converter = tf.lite.TFLiteConverter.from_keras_model(model)\n",
    "tflite_model = converter.convert()\n",
    "\n",
    "# Save the model to disk\n",
    "open(\"models/gesture_model.tflite\", \"wb\").write(tflite_model)\n",
    "  \n",
    "import os\n",
    "basic_model_size = os.path.getsize(\"models/gesture_model.tflite\")\n",
    "print(\"Model is %d bytes\" % basic_model_size)"
   ]
  },
  {
   "cell_type": "code",
   "execution_count": 13,
   "id": "b27df5bf",
   "metadata": {},
   "outputs": [
    {
     "name": "stdout",
     "output_type": "stream",
     "text": [
      "Header file, model.h, is 2,107,604 bytes.\n"
     ]
    }
   ],
   "source": [
    "!echo \"const unsigned char model[] = {\" > models/model.h\n",
    "!cat models/gesture_model.tflite | xxd -i      >> models/model.h\n",
    "!echo \"};\"                              >> models/model.h\n",
    "\n",
    "import os\n",
    "model_h_size = os.path.getsize(\"models/model.h\")\n",
    "print(f\"Header file, model.h, is {model_h_size:,} bytes.\")"
   ]
  },
  {
   "cell_type": "markdown",
   "id": "f3ce96b8",
   "metadata": {},
   "source": [
    "# Pruning the model"
   ]
  },
  {
   "cell_type": "code",
   "execution_count": 14,
   "id": "badf527a",
   "metadata": {},
   "outputs": [
    {
     "name": "stdout",
     "output_type": "stream",
     "text": [
      "2700\n"
     ]
    },
    {
     "name": "stderr",
     "output_type": "stream",
     "text": [
      "/opt/anaconda3/lib/python3.8/site-packages/tensorflow/python/keras/engine/base_layer.py:2281: UserWarning: `layer.add_variable` is deprecated and will be removed in a future version. Please use `layer.add_weight` method instead.\n",
      "  warnings.warn('`layer.add_variable` is deprecated and '\n"
     ]
    },
    {
     "name": "stdout",
     "output_type": "stream",
     "text": [
      "Model: \"sequential\"\n",
      "_________________________________________________________________\n",
      "Layer (type)                 Output Shape              Param #   \n",
      "=================================================================\n",
      "prune_low_magnitude_dense (P (None, 100)               142902    \n",
      "_________________________________________________________________\n",
      "prune_low_magnitude_dropout  (None, 100)               1         \n",
      "_________________________________________________________________\n",
      "prune_low_magnitude_dense_1  (None, 75)                15077     \n",
      "_________________________________________________________________\n",
      "prune_low_magnitude_dropout_ (None, 75)                1         \n",
      "_________________________________________________________________\n",
      "prune_low_magnitude_dense_2  (None, 75)                11327     \n",
      "_________________________________________________________________\n",
      "prune_low_magnitude_dropout_ (None, 75)                1         \n",
      "_________________________________________________________________\n",
      "prune_low_magnitude_dense_3  (None, 2)                 304       \n",
      "=================================================================\n",
      "Total params: 169,613\n",
      "Trainable params: 84,927\n",
      "Non-trainable params: 84,686\n",
      "_________________________________________________________________\n"
     ]
    }
   ],
   "source": [
    "# Compute end step to finish pruning after 450 epochs.\n",
    "epochs = 450\n",
    "end_step = np.ceil(1.0 * TRAIN_SPLIT / 10).astype(np.int32) * epochs\n",
    "print(end_step)\n",
    "\n",
    "# Define model for pruning by starting the model with 50% sparsity (50% zeros in weights) and end with 80% sparsity.\n",
    "pruning_params = {\n",
    "      'pruning_schedule': sparsity.PolynomialDecay(initial_sparsity=0.65,\n",
    "                                                   final_sparsity=0.90,\n",
    "                                                   begin_step=0,\n",
    "                                                   end_step=end_step,\n",
    "                                                   frequency=100)\n",
    "}\n",
    "\n",
    "# `prune_low_magnitude` requires a recompile\n",
    "model_for_pruning = sparsity.prune_low_magnitude(model, **pruning_params)\n",
    "model_for_pruning.summary()\n",
    "adam = tf.keras.optimizers.Adam(\n",
    "       learning_rate=0.0001,\n",
    "       name=\"adam\")\n",
    "model_for_pruning.compile(\n",
    "    loss=[\"mse\"],\n",
    "    optimizer= \"adam\",\n",
    "    metrics=['accuracy'])"
   ]
  },
  {
   "cell_type": "code",
   "execution_count": 15,
   "id": "d439bf78",
   "metadata": {},
   "outputs": [
    {
     "name": "stdout",
     "output_type": "stream",
     "text": [
      "Epoch 1/50\n",
      "2/6 [=========>....................] - ETA: 0s - loss: 0.2019 - accuracy: 0.7500 WARNING:tensorflow:Callback method `on_train_batch_end` is slow compared to the batch time (batch time: 0.0020s vs `on_train_batch_end` time: 0.0136s). Check your callbacks.\n"
     ]
    },
    {
     "name": "stderr",
     "output_type": "stream",
     "text": [
      "WARNING:tensorflow:Callback method `on_train_batch_end` is slow compared to the batch time (batch time: 0.0020s vs `on_train_batch_end` time: 0.0136s). Check your callbacks.\n"
     ]
    },
    {
     "name": "stdout",
     "output_type": "stream",
     "text": [
      "6/6 [==============================] - 3s 66ms/step - loss: 0.3003 - accuracy: 0.6076 - val_loss: 0.2177 - val_accuracy: 0.4500\n",
      "Epoch 2/50\n",
      "6/6 [==============================] - 0s 11ms/step - loss: 0.2255 - accuracy: 0.5907 - val_loss: 0.2525 - val_accuracy: 0.4000\n",
      "Epoch 3/50\n",
      "6/6 [==============================] - 0s 11ms/step - loss: 0.2668 - accuracy: 0.4829 - val_loss: 0.2375 - val_accuracy: 0.9500\n",
      "Epoch 4/50\n",
      "6/6 [==============================] - 0s 11ms/step - loss: 0.2329 - accuracy: 0.6679 - val_loss: 0.2406 - val_accuracy: 0.4000\n",
      "Epoch 5/50\n",
      "6/6 [==============================] - 0s 11ms/step - loss: 0.2349 - accuracy: 0.5317 - val_loss: 0.2179 - val_accuracy: 0.7000\n",
      "Epoch 6/50\n",
      "6/6 [==============================] - 0s 12ms/step - loss: 0.2092 - accuracy: 0.6574 - val_loss: 0.2015 - val_accuracy: 0.8500\n",
      "Epoch 7/50\n",
      "6/6 [==============================] - 0s 10ms/step - loss: 0.1894 - accuracy: 0.7738 - val_loss: 0.1750 - val_accuracy: 0.9500\n",
      "Epoch 8/50\n",
      "6/6 [==============================] - 0s 11ms/step - loss: 0.1823 - accuracy: 0.7226 - val_loss: 0.1573 - val_accuracy: 0.9000\n",
      "Epoch 9/50\n",
      "6/6 [==============================] - 0s 11ms/step - loss: 0.1860 - accuracy: 0.7721 - val_loss: 0.1490 - val_accuracy: 0.9000\n",
      "Epoch 10/50\n",
      "6/6 [==============================] - 0s 11ms/step - loss: 0.1581 - accuracy: 0.7738 - val_loss: 0.1382 - val_accuracy: 0.9500\n",
      "Epoch 11/50\n",
      "6/6 [==============================] - 0s 11ms/step - loss: 0.1737 - accuracy: 0.7467 - val_loss: 0.1328 - val_accuracy: 0.9500\n",
      "Epoch 12/50\n",
      "6/6 [==============================] - 0s 11ms/step - loss: 0.1367 - accuracy: 0.8493 - val_loss: 0.1153 - val_accuracy: 0.9500\n",
      "Epoch 13/50\n",
      "6/6 [==============================] - 0s 11ms/step - loss: 0.1335 - accuracy: 0.8626 - val_loss: 0.1148 - val_accuracy: 0.9500\n",
      "Epoch 14/50\n",
      "6/6 [==============================] - 0s 11ms/step - loss: 0.1325 - accuracy: 0.8283 - val_loss: 0.1442 - val_accuracy: 0.7000\n",
      "Epoch 15/50\n",
      "6/6 [==============================] - 0s 11ms/step - loss: 0.1630 - accuracy: 0.8119 - val_loss: 0.0938 - val_accuracy: 0.9000\n",
      "Epoch 16/50\n",
      "6/6 [==============================] - 0s 11ms/step - loss: 0.0794 - accuracy: 0.9924 - val_loss: 0.0680 - val_accuracy: 0.9500\n",
      "Epoch 17/50\n",
      "6/6 [==============================] - 0s 13ms/step - loss: 0.1498 - accuracy: 0.8364 - val_loss: 0.1466 - val_accuracy: 0.9500\n",
      "Epoch 18/50\n",
      "6/6 [==============================] - 0s 12ms/step - loss: 0.1261 - accuracy: 0.9314 - val_loss: 0.1199 - val_accuracy: 0.9000\n",
      "Epoch 19/50\n",
      "6/6 [==============================] - 0s 11ms/step - loss: 0.1381 - accuracy: 0.8917 - val_loss: 0.1008 - val_accuracy: 0.9500\n",
      "Epoch 20/50\n",
      "6/6 [==============================] - 0s 12ms/step - loss: 0.1103 - accuracy: 0.9093 - val_loss: 0.0850 - val_accuracy: 0.9500\n",
      "Epoch 21/50\n",
      "6/6 [==============================] - 0s 11ms/step - loss: 0.0861 - accuracy: 0.9119 - val_loss: 0.0791 - val_accuracy: 0.9500\n",
      "Epoch 22/50\n",
      "6/6 [==============================] - 0s 12ms/step - loss: 0.1083 - accuracy: 0.8812 - val_loss: 0.0695 - val_accuracy: 0.9500\n",
      "Epoch 23/50\n",
      "6/6 [==============================] - 0s 12ms/step - loss: 0.1047 - accuracy: 0.9562 - val_loss: 0.0672 - val_accuracy: 0.9500\n",
      "Epoch 24/50\n",
      "6/6 [==============================] - 0s 11ms/step - loss: 0.0918 - accuracy: 0.9267 - val_loss: 0.0657 - val_accuracy: 0.9500\n",
      "Epoch 25/50\n",
      "6/6 [==============================] - 0s 12ms/step - loss: 0.1076 - accuracy: 0.9000 - val_loss: 0.0821 - val_accuracy: 0.9500\n",
      "Epoch 26/50\n",
      "6/6 [==============================] - 0s 12ms/step - loss: 0.0832 - accuracy: 0.9457 - val_loss: 0.0679 - val_accuracy: 0.9500\n",
      "Epoch 27/50\n",
      "6/6 [==============================] - 0s 11ms/step - loss: 0.0927 - accuracy: 0.9012 - val_loss: 0.0627 - val_accuracy: 0.9500\n",
      "Epoch 28/50\n",
      "6/6 [==============================] - 0s 11ms/step - loss: 0.0579 - accuracy: 0.9764 - val_loss: 0.0571 - val_accuracy: 0.9500\n",
      "Epoch 29/50\n",
      "6/6 [==============================] - 0s 11ms/step - loss: 0.0621 - accuracy: 0.9605 - val_loss: 0.0486 - val_accuracy: 0.9500\n",
      "Epoch 30/50\n",
      "6/6 [==============================] - 0s 11ms/step - loss: 0.0609 - accuracy: 0.9776 - val_loss: 0.0505 - val_accuracy: 0.9500\n",
      "Epoch 31/50\n",
      "6/6 [==============================] - 0s 11ms/step - loss: 0.0466 - accuracy: 0.9486 - val_loss: 0.0414 - val_accuracy: 0.9500\n",
      "Epoch 32/50\n",
      "6/6 [==============================] - 0s 11ms/step - loss: 0.0502 - accuracy: 0.9295 - val_loss: 0.0417 - val_accuracy: 0.9500\n",
      "Epoch 33/50\n",
      "6/6 [==============================] - 0s 11ms/step - loss: 0.0492 - accuracy: 0.9888 - val_loss: 0.0373 - val_accuracy: 0.9500\n",
      "Epoch 34/50\n",
      "6/6 [==============================] - 0s 14ms/step - loss: 0.0618 - accuracy: 0.9188 - val_loss: 0.0354 - val_accuracy: 0.9500\n",
      "Epoch 35/50\n",
      "6/6 [==============================] - 0s 12ms/step - loss: 0.0865 - accuracy: 0.9095 - val_loss: 0.0277 - val_accuracy: 0.9500\n",
      "Epoch 36/50\n",
      "6/6 [==============================] - 0s 12ms/step - loss: 0.0531 - accuracy: 0.9424 - val_loss: 0.0303 - val_accuracy: 0.9500\n",
      "Epoch 37/50\n",
      "6/6 [==============================] - 0s 12ms/step - loss: 0.0398 - accuracy: 0.9657 - val_loss: 0.0334 - val_accuracy: 0.9500\n",
      "Epoch 38/50\n",
      "6/6 [==============================] - 0s 11ms/step - loss: 0.0329 - accuracy: 0.9793 - val_loss: 0.0277 - val_accuracy: 1.0000\n",
      "Epoch 39/50\n",
      "6/6 [==============================] - 0s 11ms/step - loss: 0.0533 - accuracy: 0.9693 - val_loss: 0.0303 - val_accuracy: 0.9500\n",
      "Epoch 40/50\n",
      "6/6 [==============================] - 0s 11ms/step - loss: 0.0432 - accuracy: 0.9626 - val_loss: 0.0353 - val_accuracy: 0.9500\n",
      "Epoch 41/50\n",
      "6/6 [==============================] - 0s 11ms/step - loss: 0.0461 - accuracy: 0.9538 - val_loss: 0.0288 - val_accuracy: 0.9500\n",
      "Epoch 42/50\n",
      "6/6 [==============================] - 0s 12ms/step - loss: 0.0423 - accuracy: 0.9450 - val_loss: 0.0264 - val_accuracy: 1.0000\n",
      "Epoch 43/50\n",
      "6/6 [==============================] - 0s 11ms/step - loss: 0.0324 - accuracy: 0.9793 - val_loss: 0.0280 - val_accuracy: 0.9500\n",
      "Epoch 44/50\n",
      "6/6 [==============================] - 0s 11ms/step - loss: 0.0444 - accuracy: 0.9610 - val_loss: 0.0363 - val_accuracy: 0.9500\n",
      "Epoch 45/50\n",
      "6/6 [==============================] - 0s 12ms/step - loss: 0.0444 - accuracy: 0.9550 - val_loss: 0.0235 - val_accuracy: 1.0000\n",
      "Epoch 46/50\n",
      "6/6 [==============================] - 0s 11ms/step - loss: 0.0441 - accuracy: 0.9379 - val_loss: 0.0343 - val_accuracy: 0.9500\n",
      "Epoch 47/50\n",
      "6/6 [==============================] - 0s 11ms/step - loss: 0.0338 - accuracy: 0.9581 - val_loss: 0.0317 - val_accuracy: 0.9500\n",
      "Epoch 48/50\n",
      "6/6 [==============================] - 0s 11ms/step - loss: 0.0403 - accuracy: 0.9610 - val_loss: 0.0231 - val_accuracy: 1.0000\n",
      "Epoch 49/50\n",
      "6/6 [==============================] - 0s 12ms/step - loss: 0.0389 - accuracy: 0.9490 - val_loss: 0.0198 - val_accuracy: 1.0000\n",
      "Epoch 50/50\n",
      "6/6 [==============================] - 0s 13ms/step - loss: 0.0417 - accuracy: 0.9574 - val_loss: 0.0369 - val_accuracy: 1.0000\n",
      "Test loss: 0.0369136705994606\n",
      "Test accuracy: 1.0\n"
     ]
    }
   ],
   "source": [
    "import tempfile\n",
    "\n",
    "logdir = tempfile.mkdtemp()\n",
    "\n",
    "callbacks = [\n",
    "    sparsity.UpdatePruningStep(),\n",
    "    sparsity.PruningSummaries(log_dir=logdir, profile_batch=0),\n",
    "    tf.keras.callbacks.ReduceLROnPlateau(monitor='val_loss',min_lr=0.0001)\n",
    "\n",
    "]\n",
    "his = model_for_pruning.fit(inputs_train, outputs_train,\n",
    "          batch_size=10,\n",
    "          epochs=50,\n",
    "          verbose=1,\n",
    "          callbacks=callbacks,\n",
    "          validation_data=(inputs_validate, outputs_validate))\n",
    "\n",
    "score = model_for_pruning.evaluate(inputs_validate, outputs_validate, verbose=0)\n",
    "print('Test loss:', score[0])\n",
    "print('Test accuracy:', score[1])"
   ]
  },
  {
   "cell_type": "code",
   "execution_count": 16,
   "id": "cdc230b4",
   "metadata": {},
   "outputs": [
    {
     "name": "stdout",
     "output_type": "stream",
     "text": [
      "Model: \"sequential\"\n",
      "_________________________________________________________________\n",
      "Layer (type)                 Output Shape              Param #   \n",
      "=================================================================\n",
      "dense (Dense)                (None, 100)               71500     \n",
      "_________________________________________________________________\n",
      "dropout (Dropout)            (None, 100)               0         \n",
      "_________________________________________________________________\n",
      "dense_1 (Dense)              (None, 75)                7575      \n",
      "_________________________________________________________________\n",
      "dropout_1 (Dropout)          (None, 75)                0         \n",
      "_________________________________________________________________\n",
      "dense_2 (Dense)              (None, 75)                5700      \n",
      "_________________________________________________________________\n",
      "dropout_2 (Dropout)          (None, 75)                0         \n",
      "_________________________________________________________________\n",
      "dense_3 (Dense)              (None, 2)                 152       \n",
      "=================================================================\n",
      "Total params: 84,927\n",
      "Trainable params: 84,927\n",
      "Non-trainable params: 0\n",
      "_________________________________________________________________\n"
     ]
    }
   ],
   "source": [
    "pruned_model = sparsity.strip_pruning(model_for_pruning)\n",
    "pruned_model.summary()"
   ]
  },
  {
   "cell_type": "markdown",
   "id": "e2ddcd68",
   "metadata": {},
   "source": [
    "# Confusion Matrix for Pruned Model"
   ]
  },
  {
   "cell_type": "code",
   "execution_count": 17,
   "id": "b9b6d85c",
   "metadata": {},
   "outputs": [
    {
     "data": {
      "image/png": "[encoded data removed]",
      "text/plain": [
       "<Figure size 432x288 with 2 Axes>"
      ]
     },
     "metadata": {},
     "output_type": "display_data"
    }
   ],
   "source": [
    "predictions_p = pruned_model.predict(inputs_test)\n",
    "cm = tf.math.confusion_matrix(labels=tf.argmax(outputs_test, 1), predictions=tf.argmax(predictions_p, 1))\n",
    "axis_labels = [\"Wave\", \"Fistbump\"]\n",
    "figure = plt.figure(figsize=(6, 4))\n",
    "sns.heatmap(cm, annot=True,cmap=plt.cm.Blues,xticklabels=axis_labels, yticklabels=axis_labels)\n",
    "plt.tight_layout()\n",
    "plt.ylim(len(cm)-0, 0)\n",
    "plt.ylabel('True label')\n",
    "plt.xlabel('Predicted label')\n",
    "plt.show()"
   ]
  },
  {
   "cell_type": "code",
   "execution_count": 18,
   "id": "b4aae28a",
   "metadata": {},
   "outputs": [
    {
     "name": "stdout",
     "output_type": "stream",
     "text": [
      "dense/kernel:0 -- Total:71400, Zeros: 72.44%\n",
      "dense/bias:0 -- Total:100, Zeros: 34.00%\n",
      "dense_1/kernel:0 -- Total:7500, Zeros: 72.44%\n",
      "dense_1/bias:0 -- Total:75, Zeros: 0.00%\n",
      "dense_2/kernel:0 -- Total:5625, Zeros: 72.44%\n",
      "dense_2/bias:0 -- Total:75, Zeros: 0.00%\n",
      "dense_3/kernel:0 -- Total:150, Zeros: 72.67%\n",
      "dense_3/bias:0 -- Total:2, Zeros: 0.00%\n"
     ]
    }
   ],
   "source": [
    "from tensorflow.keras.models import load_model\n",
    "import numpy as np\n",
    "\n",
    "for i, w in enumerate(pruned_model.get_weights()):\n",
    "    print(\n",
    "        \"{} -- Total:{}, Zeros: {:.2f}%\".format(\n",
    "            pruned_model.weights[i].name, w.size, np.sum(w == 0) / w.size * 100\n",
    "        )\n",
    "    )"
   ]
  },
  {
   "cell_type": "markdown",
   "id": "95ec1a78",
   "metadata": {},
   "source": [
    "# Converting to TFLITE"
   ]
  },
  {
   "cell_type": "code",
   "execution_count": 19,
   "id": "88626991",
   "metadata": {},
   "outputs": [
    {
     "name": "stdout",
     "output_type": "stream",
     "text": [
      "INFO:tensorflow:Assets written to: /var/folders/6x/f_7qfg9s71jbzpkygx9sw7s40000gn/T/tmpaw74vo3q/assets\n"
     ]
    },
    {
     "name": "stderr",
     "output_type": "stream",
     "text": [
      "INFO:tensorflow:Assets written to: /var/folders/6x/f_7qfg9s71jbzpkygx9sw7s40000gn/T/tmpaw74vo3q/assets\n"
     ]
    },
    {
     "name": "stdout",
     "output_type": "stream",
     "text": [
      "gesture_pruned_model is 341884 bytes\n"
     ]
    }
   ],
   "source": [
    "# Convert the model to the TensorFlow Lite format without quantization\n",
    "converter = tf.lite.TFLiteConverter.from_keras_model(pruned_model)\n",
    "tflite_pruned_model = converter.convert()\n",
    "\n",
    "# Save the model to disk\n",
    "open(\"models/gesture_pruned_model.tflite\", \"wb\").write(tflite_pruned_model)\n",
    "  \n",
    "import os\n",
    "basic_model_size = os.path.getsize(\"models/gesture_pruned_model.tflite\")\n",
    "print(\"gesture_pruned_model is %d bytes\" % basic_model_size)"
   ]
  },
  {
   "cell_type": "code",
   "execution_count": 20,
   "id": "69836bfc",
   "metadata": {},
   "outputs": [
    {
     "name": "stdout",
     "output_type": "stream",
     "text": [
      "Header file, pruned_model.h, is 2,108,320 bytes.\n"
     ]
    }
   ],
   "source": [
    "!echo \"const unsigned char model[] = {\" > models/pruned_model.h\n",
    "!cat models/gesture_pruned_model.tflite | xxd -i      >> models/pruned_model.h\n",
    "!echo \"};\"                              >> models/pruned_model.h\n",
    "\n",
    "import os\n",
    "model_h_size = os.path.getsize(\"models/pruned_model.h\")\n",
    "print(f\"Header file, pruned_model.h, is {model_h_size:,} bytes.\")"
   ]
  },
  {
   "cell_type": "markdown",
   "id": "d7af6fbe",
   "metadata": {},
   "source": [
    "# Quantization"
   ]
  },
  {
   "cell_type": "code",
   "execution_count": 21,
   "id": "5c8155b8",
   "metadata": {},
   "outputs": [
    {
     "name": "stdout",
     "output_type": "stream",
     "text": [
      "INFO:tensorflow:Assets written to: /var/folders/6x/f_7qfg9s71jbzpkygx9sw7s40000gn/T/tmpu5mgpvhr/assets\n"
     ]
    },
    {
     "name": "stderr",
     "output_type": "stream",
     "text": [
      "INFO:tensorflow:Assets written to: /var/folders/6x/f_7qfg9s71jbzpkygx9sw7s40000gn/T/tmpu5mgpvhr/assets\n"
     ]
    },
    {
     "name": "stdout",
     "output_type": "stream",
     "text": [
      "pruned_quantized_model is 89040 bytes\n"
     ]
    }
   ],
   "source": [
    "# To measure the dynamic range of activations and inputs by supplying sample input data to the converter\n",
    "def representative_data_gen():\n",
    "  for input_value in np.array(inputs_train, dtype=np.float32):\n",
    "    yield [input_value]\n",
    "\n",
    "converter = tf.lite.TFLiteConverter.from_keras_model(pruned_model)\n",
    "\n",
    "converter.optimizations = [tf.lite.Optimize.DEFAULT]\n",
    "\n",
    "# Reduce the size of a floating point model by quantizing the weights\n",
    "converter.representative_dataset = representative_data_gen\n",
    "\n",
    "pruned_quantized_tflite_model = converter.convert()\n",
    "\n",
    "# Save the model to disk\n",
    "open(\"models/pruned_quantized_model.tflite\", \"wb\").write(pruned_quantized_tflite_model)\n",
    "\n",
    "import os\n",
    "basic_model_size = os.path.getsize(\"models/pruned_quantized_model.tflite\")\n",
    "print(\"pruned_quantized_model is %d bytes\" % basic_model_size)"
   ]
  },
  {
   "cell_type": "code",
   "execution_count": 22,
   "id": "78ef6009",
   "metadata": {},
   "outputs": [
    {
     "name": "stdout",
     "output_type": "stream",
     "text": [
      "Header file, pruned_quantized_model.h, is 549,114 bytes.\n"
     ]
    }
   ],
   "source": [
    "!echo \"const unsigned char model[] = {\" > models/pruned_quantized_model.h\n",
    "!cat models/pruned_quantized_model.tflite | xxd -i      >> models/pruned_quantized_model.h\n",
    "!echo \"};\"                              >> models/pruned_quantized_model.h\n",
    "\n",
    "import os\n",
    "pruned_quantized_model_h_size = os.path.getsize(\"models/pruned_quantized_model.h\")\n",
    "print(f\"Header file, pruned_quantized_model.h, is {pruned_quantized_model_h_size:,} bytes.\")"
   ]
  },
  {
   "cell_type": "code",
   "execution_count": 23,
   "id": "9ac988af",
   "metadata": {},
   "outputs": [],
   "source": [
    "import numpy as np\n",
    "\n",
    "def evaluate_model(interpreter):\n",
    "  input_index = interpreter.get_input_details()[0][\"index\"]\n",
    "  output_index = interpreter.get_output_details()[0][\"index\"]\n",
    "  arr = []\n",
    "  # Run predictions on ever y image in the \"test\" dataset.\n",
    "  prediction_digits = []\n",
    "  for i, test_image in enumerate(inputs_test):\n",
    "    # Pre-processing: add batch dimension and convert to float32 to match with\n",
    "    # the model's input data format.\n",
    "    test_image = np.expand_dims(test_image, axis=0).astype(np.float32)\n",
    "    # print(test_image)\n",
    "    interpreter.set_tensor(input_index, test_image)\n",
    "\n",
    "    # Run inference.\n",
    "    interpreter.invoke()\n",
    "\n",
    "    # Post-processing: remove batch dimension and find the digit with highest\n",
    "    # probability.\n",
    "    output = interpreter.tensor(output_index)\n",
    "    digit = np.argmax(output()[0])\n",
    "    prediction_digits.append(digit)\n",
    "\n",
    "  # Compare prediction results with ground truth labels to calculate accuracy.\n",
    "  prediction_digits = np.array(prediction_digits)\n",
    "\n",
    "  for i in range(0,len(outputs_test)):\n",
    "    arr.append(np.argmax(outputs_test[i]))\n",
    "  accuracy = (prediction_digits == np.array(arr)).mean()\n",
    "  return accuracy"
   ]
  },
  {
   "cell_type": "code",
   "execution_count": 24,
   "id": "2fb1bfa3",
   "metadata": {},
   "outputs": [
    {
     "name": "stdout",
     "output_type": "stream",
     "text": [
      "Pruned and quantized TFLite test_accuracy: 1.0\n"
     ]
    }
   ],
   "source": [
    "# Pruned and Quantized model accuracy\n",
    "interpreter = tf.lite.Interpreter(model_content=pruned_quantized_tflite_model)\n",
    "interpreter.allocate_tensors()\n",
    "\n",
    "test_accuracy = evaluate_model(interpreter)\n",
    "\n",
    "print('Pruned and quantized TFLite test_accuracy:', test_accuracy)\n"
   ]
  },
  {
   "cell_type": "code",
   "execution_count": 25,
   "id": "61aa8d9f",
   "metadata": {},
   "outputs": [
    {
     "name": "stdout",
     "output_type": "stream",
     "text": [
      "Pruned TF test accuracy: 1.0\n"
     ]
    }
   ],
   "source": [
    "# Pruned model accuracy\n",
    "interpreter1 = tf.lite.Interpreter(model_content=tflite_pruned_model)\n",
    "interpreter1.allocate_tensors()\n",
    "\n",
    "test_accuracy_ = evaluate_model(interpreter1)\n",
    "print('Pruned TF test accuracy:', test_accuracy_)"
   ]
  },
  {
   "cell_type": "code",
   "execution_count": null,
   "id": "a73ccf18",
   "metadata": {},
   "outputs": [],
   "source": []
  }
 ],
 "metadata": {
  "kernelspec": {
   "display_name": "Python 3",
   "language": "python",
   "name": "python3"
  },
  "language_info": {
   "codemirror_mode": {
    "name": "ipython",
    "version": 3
   },
   "file_extension": ".py",
   "mimetype": "text/x-python",
   "name": "python",
   "nbconvert_exporter": "python",
   "pygments_lexer": "ipython3",
   "version": "3.8.8"
  }
 },
 "nbformat": 4,
 "nbformat_minor": 5
}
